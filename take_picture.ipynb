{
 "cells": [
  {
   "cell_type": "code",
   "execution_count": 3,
   "id": "2e2b633c-45cb-48c7-b4b0-a919afee86d7",
   "metadata": {},
   "outputs": [
    {
     "name": "stdin",
     "output_type": "stream",
     "text": [
      "請輸入要保存的檔名： qixuan.jpg\n"
     ]
    },
    {
     "name": "stdout",
     "output_type": "stream",
     "text": [
      "圖像已保存為 qixuan.jpg\n"
     ]
    }
   ],
   "source": [
    "import cv2\n",
    "\n",
    "# 初始化攝像頭\n",
    "cap = cv2.VideoCapture(0)\n",
    "\n",
    "if not cap.isOpened():\n",
    "    print(\"無法打開攝像頭\")\n",
    "    exit()\n",
    "\n",
    "# 提示用戶輸入檔名\n",
    "filename = input(\"請輸入要保存的檔名：\")\n",
    "\n",
    "while True:\n",
    "    # 讀取攝像頭幀\n",
    "    ret, frame = cap.read()\n",
    "    if not ret:\n",
    "        print(\"無法接收幀（攝像頭已斷開）\")\n",
    "        break\n",
    "\n",
    "    # 顯示幀\n",
    "    cv2.imshow('Camera', frame)\n",
    "\n",
    "    # 按下 's' 鍵保存圖像並退出\n",
    "    if cv2.waitKey(1) == ord('s'):\n",
    "        cv2.imwrite(filename, frame)\n",
    "        print(f\"圖像已保存為 {filename}\")\n",
    "        break\n",
    "\n",
    "    # 按下 'q' 鍵退出\n",
    "    if cv2.waitKey(1) == ord('q'):\n",
    "        break\n",
    "\n",
    "# 釋放攝像頭並關閉所有窗口\n",
    "cap.release()\n",
    "cv2.destroyAllWindows()\n"
   ]
  }
 ],
 "metadata": {
  "kernelspec": {
   "display_name": "Python 3 (ipykernel)",
   "language": "python",
   "name": "python3"
  },
  "language_info": {
   "codemirror_mode": {
    "name": "ipython",
    "version": 3
   },
   "file_extension": ".py",
   "mimetype": "text/x-python",
   "name": "python",
   "nbconvert_exporter": "python",
   "pygments_lexer": "ipython3",
   "version": "3.9.19"
  }
 },
 "nbformat": 4,
 "nbformat_minor": 5
}
