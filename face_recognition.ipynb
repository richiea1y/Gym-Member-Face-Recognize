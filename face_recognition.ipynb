{
 "cells": [
  {
   "cell_type": "code",
   "execution_count": 5,
   "id": "935ff784-7629-459a-8c77-49be67d72f03",
   "metadata": {},
   "outputs": [
    {
     "name": "stdout",
     "output_type": "stream",
     "text": [
      "會員資料已保存到： members.json\n"
     ]
    }
   ],
   "source": [
    "import face_recognition\n",
    "import json\n",
    "\n",
    "# 會員圖片文件名\n",
    "member_images = [\"Qixuan.jpg\"]\n",
    "\n",
    "# 會員信息\n",
    "members_data = {\"members\": []}\n",
    "member_info = [\n",
    "    {\"member_name\": \"Qixuan\",  \"member_gender\":\"male\", \"member_phone\":\"09xxxxxxxx\", \"member_age\":\"27\", \"member_city\":\"Taipei\", \"encoding\":\"\"}\n",
    "]\n",
    "# 處理每張會員圖片並獲取臉部特徵編碼\n",
    "for i, image_name in enumerate(member_images):\n",
    "    # 載入圖片文件\n",
    "    image = face_recognition.load_image_file(image_name)\n",
    "    \n",
    "    # 假設每張圖片只包含一張臉\n",
    "    face_encoding = face_recognition.face_encodings(image)[0]\n",
    "    \n",
    "    # 添加臉部特徵編碼到會員信息\n",
    "    member_info[i][\"encoding\"] = face_encoding.tolist()\n",
    "\n",
    "# 添加會員信息到會員資料\n",
    "members_data[\"members\"] = member_info\n",
    "\n",
    "# 保存資料到JSON文件\n",
    "json_file_path = \"members.json\"\n",
    "with open(json_file_path, 'w') as json_file:\n",
    "    json.dump(members_data, json_file)\n",
    "\n",
    "print(f\"會員資料已保存到： {json_file_path}\")\n"
   ]
  }
 ],
 "metadata": {
  "kernelspec": {
   "display_name": "Python 3 (ipykernel)",
   "language": "python",
   "name": "python3"
  },
  "language_info": {
   "codemirror_mode": {
    "name": "ipython",
    "version": 3
   },
   "file_extension": ".py",
   "mimetype": "text/x-python",
   "name": "python",
   "nbconvert_exporter": "python",
   "pygments_lexer": "ipython3",
   "version": "3.9.19"
  }
 },
 "nbformat": 4,
 "nbformat_minor": 5
}
